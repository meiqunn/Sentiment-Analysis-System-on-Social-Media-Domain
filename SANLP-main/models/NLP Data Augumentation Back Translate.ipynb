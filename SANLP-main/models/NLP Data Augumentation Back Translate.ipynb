{
 "cells": [
  {
   "cell_type": "code",
   "execution_count": null,
   "metadata": {
    "colab": {
     "base_uri": "https://localhost:8080/"
    },
    "executionInfo": {
     "elapsed": 6691415,
     "status": "ok",
     "timestamp": 1719003130068,
     "user": {
      "displayName": "Jun Heng Teo",
      "userId": "04300899387875088456"
     },
     "user_tz": -480
    },
    "id": "cU-iUIkPdcYb",
    "outputId": "71e8d62d-056b-4788-ed28-b4a69ac1d082"
   },
   "outputs": [
    {
     "name": "stderr",
     "output_type": "stream",
     "text": [
      "C:\\Users\\User\\AppData\\Local\\Programs\\Python\\Python311\\Lib\\site-packages\\tqdm\\auto.py:21: TqdmWarning: IProgress not found. Please update jupyter and ipywidgets. See https://ipywidgets.readthedocs.io/en/stable/user_install.html\n",
      "  from .autonotebook import tqdm as notebook_tqdm\n",
      "Downloading source.spm: 100%|██████████████████████████████████████| 806k/806k [00:00<00:00, 888kB/s]\n",
      "C:\\Users\\User\\AppData\\Local\\Programs\\Python\\Python311\\Lib\\site-packages\\huggingface_hub\\file_download.py:137: UserWarning: `huggingface_hub` cache-system uses symlinks by default to efficiently store duplicated files but your machine does not support them in C:\\Users\\User\\.cache\\huggingface\\hub. Caching files will still work but in a degraded version that might require more space on your disk. This warning can be disabled by setting the `HF_HUB_DISABLE_SYMLINKS_WARNING` environment variable. For more details, see https://huggingface.co/docs/huggingface_hub/how-to-cache#limitations.\n",
      "To support symlinks on Windows, you either need to activate Developer Mode or to run Python as an administrator. In order to see activate developer mode, see this article: https://docs.microsoft.com/en-us/windows/apps/get-started/enable-your-device-for-development\n",
      "  warnings.warn(message)\n",
      "Downloading target.spm: 100%|██████████████████████████████████████| 805k/805k [00:00<00:00, 853kB/s]\n",
      "Downloading vocab.json: 100%|███████████████████████████████████| 1.62M/1.62M [00:00<00:00, 4.43MB/s]\n",
      "C:\\Users\\User\\AppData\\Local\\Programs\\Python\\Python311\\Lib\\site-packages\\transformers\\models\\marian\\tokenization_marian.py:197: UserWarning: Recommended: pip install sacremoses.\n",
      "  warnings.warn(\"Recommended: pip install sacremoses.\")\n",
      "Downloading config.json: 100%|██████████████████████████████████████████| 1.39k/1.39k [00:00<?, ?B/s]\n",
      "Downloading pytorch_model.bin: 100%|██████████████████████████████| 312M/312M [00:51<00:00, 6.09MB/s]\n",
      "Downloading generation_config.json: 100%|███████████████████████████████████| 293/293 [00:00<?, ?B/s]\n",
      "Downloading tokenizer_config.json: 100%|██████████████████████████████████| 44.0/44.0 [00:00<?, ?B/s]\n",
      "Downloading source.spm: 100%|██████████████████████████████████████| 805k/805k [00:00<00:00, 850kB/s]\n",
      "Downloading target.spm: 100%|█████████████████████████████████████| 807k/807k [00:00<00:00, 1.06MB/s]\n",
      "Downloading vocab.json: 100%|███████████████████████████████████| 1.62M/1.62M [00:00<00:00, 4.08MB/s]\n"
     ]
    }
   ],
   "source": [
    "import pandas as pd\n",
    "from transformers import pipeline\n",
    "import torch\n",
    "\n",
    "device = 0 if torch.cuda.is_available() else -1\n",
    "\n",
    "en_zh_translator = pipeline(\"translation\", model=\"Helsinki-NLP/opus-mt-en-zh\", device=device)\n",
    "zh_en_translator = pipeline(\"translation\", model=\"Helsinki-NLP/opus-mt-zh-en\", device=device)\n",
    "\n",
    "df_train = pd.read_csv('train.csv', encoding='latin1')\n",
    "df_test = pd.read_csv('test.csv', encoding='latin1')\n",
    "\n",
    "def translate_and_save(df, filename):\n",
    "    df['text'] = df['text'].astype(str)\n",
    "    # Translate English text to Chinese\n",
    "    zh_translated = df['text'].apply(lambda x: en_zh_translator(x, clean_up_tokenization_spaces=True)[0]['translation_text'])\n",
    "\n",
    "    # Translate the Chinese text back to English\n",
    "    en_back_translated = zh_translated.apply(lambda x: zh_en_translator(x, clean_up_tokenization_spaces=True)[0]['translation_text'])\n",
    "\n",
    "    df_translated = pd.DataFrame({\n",
    "        'text': en_back_translated,\n",
    "        'sentiment': df['sentiment']\n",
    "    })\n",
    "\n",
    "    df_augmented = pd.concat([df[['text', 'sentiment']], df_translated], ignore_index=True)\n",
    "\n",
    "    df_augmented.to_csv(filename, index=False)\n",
    "\n",
    "translate_and_save(df_train, 'train_augmented.csv')\n",
    "translate_and_save(df_test, 'test_augmented.csv')"
   ]
  },
  {
   "cell_type": "code",
   "execution_count": 6,
   "metadata": {},
   "outputs": [
    {
     "name": "stdout",
     "output_type": "stream",
     "text": [
      "Requirement already satisfied: sentencepiece in c:\\users\\user\\appdata\\local\\programs\\python\\python311\\lib\\site-packages (0.2.0)\n"
     ]
    },
    {
     "name": "stderr",
     "output_type": "stream",
     "text": [
      "\n",
      "[notice] A new release of pip is available: 23.3.1 -> 24.0\n",
      "[notice] To update, run: python.exe -m pip install --upgrade pip\n"
     ]
    }
   ],
   "source": [
    "!pip install sentencepiece"
   ]
  },
  {
   "cell_type": "code",
   "execution_count": null,
   "metadata": {},
   "outputs": [],
   "source": []
  }
 ],
 "metadata": {
  "accelerator": "GPU",
  "colab": {
   "authorship_tag": "ABX9TyNzHAOE/haAZdXyfUxCcN3I",
   "gpuType": "T4",
   "mount_file_id": "1DbRZedRlLpkCC8Ij9eSyLN3oSBn62g0p",
   "provenance": []
  },
  "kernelspec": {
   "display_name": "Python 3 (ipykernel)",
   "language": "python",
   "name": "python3"
  },
  "language_info": {
   "codemirror_mode": {
    "name": "ipython",
    "version": 3
   },
   "file_extension": ".py",
   "mimetype": "text/x-python",
   "name": "python",
   "nbconvert_exporter": "python",
   "pygments_lexer": "ipython3",
   "version": "3.11.2"
  }
 },
 "nbformat": 4,
 "nbformat_minor": 1
}
