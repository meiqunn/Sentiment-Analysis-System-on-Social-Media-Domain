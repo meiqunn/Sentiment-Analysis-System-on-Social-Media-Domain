{
 "cells": [
  {
   "cell_type": "code",
   "execution_count": null,
   "metadata": {
    "colab": {
     "base_uri": "https://localhost:8080/"
    },
    "executionInfo": {
     "elapsed": 6691415,
     "status": "ok",
     "timestamp": 1719003130068,
     "user": {
      "displayName": "Jun Heng Teo",
      "userId": "04300899387875088456"
     },
     "user_tz": -480
    },
    "id": "cU-iUIkPdcYb",
    "outputId": "71e8d62d-056b-4788-ed28-b4a69ac1d082"
   },
   "outputs": [
    {
     "name": "stderr",
     "output_type": "stream",
     "text": [
      "C:\\Users\\User\\AppData\\Local\\Programs\\Python\\Python311\\Lib\\site-packages\\tqdm\\auto.py:21: TqdmWarning: IProgress not found. Please update jupyter and ipywidgets. See https://ipywidgets.readthedocs.io/en/stable/user_install.html\n",
      "  from .autonotebook import tqdm as notebook_tqdm\n",
      "Downloading config.json: 100%|██████████████████████████████████████████| 1.40k/1.40k [00:00<?, ?B/s]\n",
      "C:\\Users\\User\\AppData\\Local\\Programs\\Python\\Python311\\Lib\\site-packages\\huggingface_hub\\file_download.py:137: UserWarning: `huggingface_hub` cache-system uses symlinks by default to efficiently store duplicated files but your machine does not support them in C:\\Users\\User\\.cache\\huggingface\\hub. Caching files will still work but in a degraded version that might require more space on your disk. This warning can be disabled by setting the `HF_HUB_DISABLE_SYMLINKS_WARNING` environment variable. For more details, see https://huggingface.co/docs/huggingface_hub/how-to-cache#limitations.\n",
      "To support symlinks on Windows, you either need to activate Developer Mode or to run Python as an administrator. In order to see activate developer mode, see this article: https://docs.microsoft.com/en-us/windows/apps/get-started/enable-your-device-for-development\n",
      "  warnings.warn(message)\n",
      "Downloading pytorch_model.bin:  94%|████████████████████████████▏ | 294M/312M [00:40<00:02, 6.70MB/s]"
     ]
    }
   ],
   "source": [
    "import pandas as pd\n",
    "from transformers import pipeline\n",
    "import torch\n",
    "\n",
    "device = 0 if torch.cuda.is_available() else -1\n",
    "\n",
    "en_zh_translator = pipeline(\"translation\", model=\"Helsinki-NLP/opus-mt-en-zh\", device=device)\n",
    "zh_en_translator = pipeline(\"translation\", model=\"Helsinki-NLP/opus-mt-zh-en\", device=device)\n",
    "\n",
    "df_train = pd.read_csv('train.csv', encoding='latin1')\n",
    "df_test = pd.read_csv('test.csv', encoding='latin1')\n",
    "\n",
    "def translate_and_save(df, filename):\n",
    "    df['text'] = df['text'].astype(str)\n",
    "    # Translate English text to Chinese\n",
    "    zh_translated = df['text'].apply(lambda x: en_zh_translator(x, clean_up_tokenization_spaces=True)[0]['translation_text'])\n",
    "\n",
    "    # Translate the Chinese text back to English\n",
    "    en_back_translated = zh_translated.apply(lambda x: zh_en_translator(x, clean_up_tokenization_spaces=True)[0]['translation_text'])\n",
    "\n",
    "    df_translated = pd.DataFrame({\n",
    "        'text': en_back_translated,\n",
    "        'sentiment': df['sentiment']\n",
    "    })\n",
    "\n",
    "    df_augmented = pd.concat([df[['text', 'sentiment']], df_translated], ignore_index=True)\n",
    "\n",
    "    df_augmented.to_csv(filename, index=False)\n",
    "\n",
    "translate_and_save(df_train, 'train_augmented.csv')\n",
    "translate_and_save(df_test, 'test_augmented.csv')"
   ]
  },
  {
   "cell_type": "code",
   "execution_count": null,
   "metadata": {},
   "outputs": [],
   "source": []
  }
 ],
 "metadata": {
  "accelerator": "GPU",
  "colab": {
   "authorship_tag": "ABX9TyNzHAOE/haAZdXyfUxCcN3I",
   "gpuType": "T4",
   "mount_file_id": "1DbRZedRlLpkCC8Ij9eSyLN3oSBn62g0p",
   "provenance": []
  },
  "kernelspec": {
   "display_name": "Python 3 (ipykernel)",
   "language": "python",
   "name": "python3"
  },
  "language_info": {
   "codemirror_mode": {
    "name": "ipython",
    "version": 3
   },
   "file_extension": ".py",
   "mimetype": "text/x-python",
   "name": "python",
   "nbconvert_exporter": "python",
   "pygments_lexer": "ipython3",
   "version": "3.11.2"
  }
 },
 "nbformat": 4,
 "nbformat_minor": 1
}
