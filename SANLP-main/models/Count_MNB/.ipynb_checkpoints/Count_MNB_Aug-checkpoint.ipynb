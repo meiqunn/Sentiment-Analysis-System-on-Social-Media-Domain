{
 "cells": [
  {
   "cell_type": "code",
   "execution_count": 1,
   "id": "3423d011",
   "metadata": {},
   "outputs": [
    {
     "name": "stderr",
     "output_type": "stream",
     "text": [
      "[nltk_data] Downloading package punkt to /home/jh/nltk_data...\n",
      "[nltk_data]   Package punkt is already up-to-date!\n",
      "[nltk_data] Downloading package stopwords to /home/jh/nltk_data...\n",
      "[nltk_data]   Package stopwords is already up-to-date!\n"
     ]
    },
    {
     "data": {
      "text/plain": [
       "True"
      ]
     },
     "execution_count": 1,
     "metadata": {},
     "output_type": "execute_result"
    }
   ],
   "source": [
    "from sklearn.feature_extraction.text import CountVectorizer\n",
    "from sklearn.naive_bayes import MultinomialNB\n",
    "import pandas as pd\n",
    "from sklearn.model_selection import train_test_split\n",
    "from sklearn.metrics import classification_report\n",
    "import re\n",
    "import nltk\n",
    "from nltk.tokenize import word_tokenize\n",
    "from nltk.corpus import stopwords\n",
    "from nltk.stem import PorterStemmer\n",
    "from nltk.stem import WordNetLemmatizer\n",
    "from sklearn.pipeline import make_pipeline\n",
    "from sklearn.model_selection import GridSearchCV\n",
    "\n",
    "nltk.download('punkt')\n",
    "nltk.download('stopwords')"
   ]
  },
  {
   "cell_type": "code",
   "execution_count": 2,
   "id": "202a0b06",
   "metadata": {},
   "outputs": [],
   "source": [
    "stop_words = set(stopwords.words('english'))\n",
    "stemmer = PorterStemmer()\n",
    "lemmatizer = WordNetLemmatizer()\n",
    "\n",
    "def preprocess(text):\n",
    "    #remove tag\n",
    "    text = re.sub('@[^\\s]+','', text)\n",
    "\n",
    "    #remove link\n",
    "    text = re.sub('((www\\.[^\\s]+)|(http?://[^\\s]+))','',text)\n",
    "\n",
    "    # Remove punctuation\n",
    "    text = re.sub(\"[^a-zA-Z]\", \" \", text)\n",
    "\n",
    "    #lowercase and tokenize\n",
    "    tokens = nltk.word_tokenize(text.lower())\n",
    "\n",
    "    #remove stopwrods\n",
    "    tokens = [word for word in tokens if word not in stop_words]  \n",
    "\n",
    "    #stemming\n",
    "    tokens = [stemmer.stem(word) for word in tokens]\n",
    "    \n",
    "    return ' '.join(tokens)"
   ]
  },
  {
   "cell_type": "code",
   "execution_count": 3,
   "id": "73c28457",
   "metadata": {},
   "outputs": [],
   "source": [
    "df_train = pd.read_csv(\"../train_aug.csv\")\n",
    "df_train['text'] = df_train['text'].astype(str).apply(preprocess)\n",
    "df_train.dropna(inplace=True)\n",
    "df_train.drop_duplicates(subset='text', inplace=True)\n",
    "\n",
    "df_test = pd.read_csv(\"../test_aug.csv\")\n",
    "df_test['text'] = df_test['text'].astype(str).apply(preprocess)\n",
    "df_test.dropna(inplace=True)\n",
    "df_test.drop_duplicates(subset='text', inplace=True)"
   ]
  },
  {
   "cell_type": "code",
   "execution_count": null,
   "id": "ffb5d863",
   "metadata": {},
   "outputs": [],
   "source": [
    "# Define the pipeline with CountVectorizer and MultinomialNB\n",
    "pipeline = make_pipeline(\n",
    "    CountVectorizer(stop_words='english', ngram_range=(1, 2)),\n",
    "    MultinomialNB()\n",
    ")\n",
    "\n",
    "parameters = {\n",
    "    'countvectorizer__max_features': [1000, 2000, 3000, 5000],  \n",
    "    'countvectorizer__ngram_range': [(1, 1), (1, 2), (1, 3)],   \n",
    "    'multinomialnb__alpha': [0.5, 1.0, 1.5, 2.0],               \n",
    "    'multinomialnb__fit_prior': [True, False]                  \n",
    "}\n",
    "\n",
    "# grid search cross-validation\n",
    "grid_search = GridSearchCV(pipeline, parameters, cv=5, n_jobs=-1)\n",
    "grid_search.fit(df_train['text'], df_train['sentiment'])\n",
    "\n",
    "# best parameters and score\n",
    "print(\"Best Parameters:\", grid_search.best_params_)\n",
    "print(\"Best CV Score:\", grid_search.best_score_)\n",
    "\n",
    "# fit the final model with best parameters\n",
    "best_model = grid_search.best_estimator_\n",
    "best_model.fit(df_train['text'], df_train['sentiment'])"
   ]
  },
  {
   "cell_type": "code",
   "execution_count": null,
   "id": "cfdb6025",
   "metadata": {},
   "outputs": [],
   "source": [
    "y_pred = best_model.predict(df_test['text'])"
   ]
  },
  {
   "cell_type": "code",
   "execution_count": null,
   "id": "34677fa9",
   "metadata": {},
   "outputs": [],
   "source": [
    "print(classification_report(df_test['sentiment'], y_pred))"
   ]
  },
  {
   "cell_type": "code",
   "execution_count": null,
   "id": "1d443743",
   "metadata": {},
   "outputs": [],
   "source": [
    "import joblib \n",
    "\n",
    "joblib.dump(best_model, 'count_mnb_aug.joblib')"
   ]
  }
 ],
 "metadata": {
  "kernelspec": {
   "display_name": "venv",
   "language": "python",
   "name": "venv"
  },
  "language_info": {
   "codemirror_mode": {
    "name": "ipython",
    "version": 3
   },
   "file_extension": ".py",
   "mimetype": "text/x-python",
   "name": "python",
   "nbconvert_exporter": "python",
   "pygments_lexer": "ipython3",
   "version": "3.10.6"
  }
 },
 "nbformat": 4,
 "nbformat_minor": 5
}
