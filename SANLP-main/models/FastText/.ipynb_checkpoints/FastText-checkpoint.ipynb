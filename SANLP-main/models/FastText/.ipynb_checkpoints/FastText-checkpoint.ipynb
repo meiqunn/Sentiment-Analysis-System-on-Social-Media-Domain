{
 "cells": [
  {
   "cell_type": "code",
   "execution_count": 1,
   "id": "3423d011",
   "metadata": {},
   "outputs": [
    {
     "name": "stderr",
     "output_type": "stream",
     "text": [
      "[nltk_data] Downloading package punkt to /home/jh/nltk_data...\n",
      "[nltk_data]   Package punkt is already up-to-date!\n",
      "[nltk_data] Downloading package stopwords to /home/jh/nltk_data...\n",
      "[nltk_data]   Package stopwords is already up-to-date!\n"
     ]
    },
    {
     "data": {
      "text/plain": [
       "True"
      ]
     },
     "execution_count": 1,
     "metadata": {},
     "output_type": "execute_result"
    }
   ],
   "source": [
    "import fasttext\n",
    "import pandas as pd\n",
    "from sklearn.model_selection import train_test_split\n",
    "from sklearn.metrics import accuracy_score\n",
    "import re\n",
    "import nltk\n",
    "from nltk.tokenize import word_tokenize\n",
    "from nltk.corpus import stopwords\n",
    "from nltk.stem import PorterStemmer\n",
    "from nltk.stem import WordNetLemmatizer\n",
    "from sklearn.metrics import classification_report\n",
    "from sklearn.utils import resample\n",
    "import matplotlib.pyplot as plt\n",
    "import seaborn as sns\n",
    "\n",
    "nltk.download('punkt')\n",
    "nltk.download('stopwords')"
   ]
  },
  {
   "cell_type": "code",
   "execution_count": 2,
   "id": "202a0b06",
   "metadata": {},
   "outputs": [],
   "source": [
    "stop_words = set(stopwords.words('english'))\n",
    "stemmer = PorterStemmer()\n",
    "lemmatizer = WordNetLemmatizer()\n",
    "\n",
    "def preprocess(text_list, label_list):\n",
    "    processed_text_list = []\n",
    "    for text in text_list:\n",
    "        #remove tag\n",
    "        text = re.sub('@[^\\s]+','', text)\n",
    "        \n",
    "        #remove link\n",
    "        text = re.sub('((www\\.[^\\s]+)|(http?://[^\\s]+))','',text)\n",
    "        \n",
    "        # Remove punctuation\n",
    "        text = re.sub(\"[^a-zA-Z]\", \" \", text)\n",
    "        \n",
    "        #lowercase and tokenize\n",
    "        tokens = nltk.word_tokenize(text.lower())\n",
    "        \n",
    "        #remove stopwrods\n",
    "        tokens = [word for word in tokens if word not in stop_words]  \n",
    "        \n",
    "        #stemming\n",
    "        tokens = [stemmer.stem(word) for word in tokens]\n",
    "        \n",
    "        #lemmatization\n",
    "        #tokens = [lemmatizer.lemmatize(token) for token in tokens]\n",
    "        \n",
    "        processed_text_list.append(' '.join(tokens))\n",
    "    \n",
    "    \n",
    "    if label_list:\n",
    "        df = pd.DataFrame({'text': processed_text_list, 'sentiment': label_list})\n",
    "\n",
    "        # Remove NaN values\n",
    "        df.dropna(inplace=True)\n",
    "\n",
    "        # Remove duplicates\n",
    "        df.drop_duplicates(subset='text', inplace=True)\n",
    "\n",
    "        # Get the processed texts and corresponding labels\n",
    "        processed_text_list = df['text'].astype(str).tolist()\n",
    "        label_list = df['label'].astype(str).tolist()\n",
    "\n",
    "        return processed_text_list, label_list\n",
    "    \n",
    "    return processed_text_list\n",
    "    \n",
    "\n",
    "def saveTxt(file_name, text_list, label_list):\n",
    "    combined_list = [f\"__label__{label} {text.strip()}\\n\" for label, text in zip(label_list, text_list)]\n",
    "    \n",
    "    with open(file_name,'w') as file:\n",
    "        file.writelines(combined_list)"
   ]
  },
  {
   "cell_type": "code",
   "execution_count": 3,
   "id": "73c28457",
   "metadata": {},
   "outputs": [
    {
     "name": "stdout",
     "output_type": "stream",
     "text": [
      "sentiment\n",
      "neutral     11118\n",
      "positive     8582\n",
      "negative     7781\n",
      "Name: count, dtype: int64 \n",
      "\n"
     ]
    }
   ],
   "source": [
    "df_train = pd.read_csv(\"../train.csv\")\n",
    "print(df_train['sentiment'].value_counts(),'\\n')\n",
    "\n",
    "train_X = df_train['text'].astype(str).tolist()\n",
    "train_y = df_train['sentiment'].astype(str).tolist()\n",
    "\n",
    "df_test = pd.read_csv(\"../test.csv\")\n",
    "test_X = df_test['text'].astype(str).tolist()\n",
    "test_y = df_test['sentiment'].astype(str).tolist()"
   ]
  },
  {
   "cell_type": "code",
   "execution_count": 4,
   "id": "228e4268",
   "metadata": {},
   "outputs": [],
   "source": [
    "saveTxt('train.txt', preprocess(train_X), train_y)\n",
    "saveTxt('test.txt', preprocess(test_X), test_y)"
   ]
  },
  {
   "cell_type": "code",
   "execution_count": 5,
   "id": "f5ee6953",
   "metadata": {},
   "outputs": [
    {
     "name": "stderr",
     "output_type": "stream",
     "text": [
      "Progress:  80.2% Trials:   17 Best score:  0.408192 ETA:   0h 0m59s\n",
      "Aborting autotune...\n",
      "Progress:  80.4% Trials:   17 Best score:  0.408192 ETA:   0h 0m58s\n",
      "Training again with best arguments\n",
      "Read 0M words\n",
      "Number of words:  18578\n",
      "Number of labels: 3\n",
      "Progress: 100.0% words/sec/thread:  161091 lr:  0.000000 avg.loss:  1.099516 ETA:   0h 0m 0s\n",
      "Progress: 100.0% words/sec/thread:  159820 lr:  0.000000 avg.loss:  1.092451 ETA:   0h 0m 0s\n"
     ]
    },
    {
     "name": "stdout",
     "output_type": "stream",
     "text": [
      "(3491, 0.4018905757662561, 0.4018905757662561)\n"
     ]
    }
   ],
   "source": [
    "model = fasttext.train_supervised(input='train.txt', autotuneValidationFile='test.txt', autotuneModelSize=\"2M\")\n",
    "result = model.test('test.txt')\n",
    "print(result)\n",
    "\n",
    "# predicted_labels = [model.predict(text)[0][0].replace('__label__','') for text in test_X]\n",
    "\n",
    "# report = classification_report(test_y, predicted_labels, output_dict=True)\n",
    "# print(report)\n",
    "# df_report = pd.DataFrame(report).transpose()\n",
    "\n",
    "# plt.figure(figsize=(10, 6))\n",
    "# sns.heatmap(df_report.iloc[:-1, :].astype(float), annot=True, cmap=\"Blues\")\n",
    "# plt.title('Classification Report')\n",
    "# plt.savefig('classification_report.png')  # Save the plot as an image file\n",
    "# plt.show()"
   ]
  },
  {
   "cell_type": "code",
   "execution_count": 6,
   "id": "ec73691e",
   "metadata": {},
   "outputs": [],
   "source": [
    "model.save_model(\"model.ftz\")"
   ]
  }
 ],
 "metadata": {
  "kernelspec": {
   "display_name": "venv",
   "language": "python",
   "name": "venv"
  },
  "language_info": {
   "codemirror_mode": {
    "name": "ipython",
    "version": 3
   },
   "file_extension": ".py",
   "mimetype": "text/x-python",
   "name": "python",
   "nbconvert_exporter": "python",
   "pygments_lexer": "ipython3",
   "version": "3.10.6"
  }
 },
 "nbformat": 4,
 "nbformat_minor": 5
}
