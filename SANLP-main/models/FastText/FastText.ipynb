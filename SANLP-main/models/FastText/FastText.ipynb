{
 "cells": [
  {
   "cell_type": "code",
   "execution_count": 1,
   "id": "3423d011",
   "metadata": {},
   "outputs": [
    {
     "name": "stderr",
     "output_type": "stream",
     "text": [
      "[nltk_data] Downloading package punkt to /home/jh/nltk_data...\n",
      "[nltk_data]   Package punkt is already up-to-date!\n",
      "[nltk_data] Downloading package stopwords to /home/jh/nltk_data...\n",
      "[nltk_data]   Package stopwords is already up-to-date!\n"
     ]
    },
    {
     "data": {
      "text/plain": [
       "True"
      ]
     },
     "execution_count": 1,
     "metadata": {},
     "output_type": "execute_result"
    }
   ],
   "source": [
    "import fasttext\n",
    "import pandas as pd\n",
    "from sklearn.model_selection import train_test_split\n",
    "from sklearn.metrics import accuracy_score\n",
    "import re\n",
    "import nltk\n",
    "from nltk.tokenize import word_tokenize\n",
    "from nltk.corpus import stopwords\n",
    "from nltk.stem import PorterStemmer\n",
    "from nltk.stem import WordNetLemmatizer\n",
    "from sklearn.metrics import classification_report\n",
    "from sklearn.utils import resample\n",
    "import matplotlib.pyplot as plt\n",
    "import seaborn as sns\n",
    "\n",
    "nltk.download('punkt')\n",
    "nltk.download('stopwords')"
   ]
  },
  {
   "cell_type": "code",
   "execution_count": 2,
   "id": "202a0b06",
   "metadata": {},
   "outputs": [],
   "source": [
    "stop_words = set(stopwords.words('english'))\n",
    "stemmer = PorterStemmer()\n",
    "lemmatizer = WordNetLemmatizer()\n",
    "\n",
    "def preprocess(text):\n",
    "    #remove tag\n",
    "    text = re.sub('@[^\\s]+','', text)\n",
    "\n",
    "    #remove link\n",
    "    text = re.sub('((www\\.[^\\s]+)|(http?://[^\\s]+))','',text)\n",
    "\n",
    "    # Remove punctuation\n",
    "    text = re.sub(\"[^a-zA-Z]\", \" \", text)\n",
    "\n",
    "    #lowercase and tokenize\n",
    "    tokens = nltk.word_tokenize(text.lower())\n",
    "\n",
    "    #remove stopwrods\n",
    "    tokens = [word for word in tokens if word not in stop_words]  \n",
    "\n",
    "    #stemming\n",
    "    tokens = [stemmer.stem(word) for word in tokens]\n",
    "    \n",
    "    return ' '.join(tokens)\n",
    "    \n",
    "def saveTxt(file_name, df):\n",
    "    text_list = df['text'].astype(str).tolist()\n",
    "    label_list = df['sentiment'].astype(str).tolist()\n",
    "    \n",
    "    combined_list = [f\"__label__{label} {text.strip()}\\n\" for label, text in zip(label_list, text_list)]\n",
    "    \n",
    "    with open(file_name,'w') as file:\n",
    "        file.writelines(combined_list)"
   ]
  },
  {
   "cell_type": "code",
   "execution_count": 3,
   "id": "73c28457",
   "metadata": {},
   "outputs": [],
   "source": [
    "df_train = pd.read_csv(\"../train.csv\")\n",
    "df_train['text'] = df_train['text'].astype(str).apply(preprocess)\n",
    "df_train.dropna(inplace=True)\n",
    "df_train.drop_duplicates(subset='text', inplace=True)\n",
    "\n",
    "df_test = pd.read_csv(\"../test.csv\")\n",
    "df_test['text'] = df_test['text'].astype(str).apply(preprocess)\n",
    "df_test.dropna(inplace=True)\n",
    "df_test.drop_duplicates(subset='text', inplace=True)"
   ]
  },
  {
   "cell_type": "code",
   "execution_count": 4,
   "id": "228e4268",
   "metadata": {},
   "outputs": [],
   "source": [
    "saveTxt('train.txt', df_train)\n",
    "saveTxt('test.txt', df_test)"
   ]
  },
  {
   "cell_type": "code",
   "execution_count": 5,
   "id": "f5ee6953",
   "metadata": {},
   "outputs": [
    {
     "name": "stderr",
     "output_type": "stream",
     "text": [
      "Progress: 100.0% Trials:   21 Best score:  0.718499 ETA:   0h 0m 0s\n",
      "Training again with best arguments\n",
      "Read 0M words\n",
      "Number of words:  18578\n",
      "Number of labels: 3\n",
      "Progress: 100.0% words/sec/thread:  129465 lr:  0.000000 avg.loss:  0.717932 ETA:   0h 0m 0s\n",
      "Progress: 100.0% words/sec/thread:  128283 lr:  0.000000 avg.loss:  0.550894 ETA:   0h 0m 0s\n"
     ]
    },
    {
     "name": "stdout",
     "output_type": "stream",
     "text": [
      "(3492, 0.7164948453608248, 0.7164948453608248)\n"
     ]
    }
   ],
   "source": [
    "model = fasttext.train_supervised(input='train.txt', autotuneValidationFile='test.txt', autotuneModelSize=\"2M\")\n",
    "result = model.test('test.txt')\n",
    "print(result)"
   ]
  },
  {
   "cell_type": "code",
   "execution_count": 6,
   "id": "ec73691e",
   "metadata": {},
   "outputs": [],
   "source": [
    "model.save_model(\"model.ftz\")"
   ]
  }
 ],
 "metadata": {
  "kernelspec": {
   "display_name": "venv",
   "language": "python",
   "name": "venv"
  },
  "language_info": {
   "codemirror_mode": {
    "name": "ipython",
    "version": 3
   },
   "file_extension": ".py",
   "mimetype": "text/x-python",
   "name": "python",
   "nbconvert_exporter": "python",
   "pygments_lexer": "ipython3",
   "version": "3.10.6"
  }
 },
 "nbformat": 4,
 "nbformat_minor": 5
}
