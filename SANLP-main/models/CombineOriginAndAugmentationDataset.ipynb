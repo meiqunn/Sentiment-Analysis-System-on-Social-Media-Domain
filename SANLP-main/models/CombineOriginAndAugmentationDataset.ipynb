{
 "cells": [
  {
   "cell_type": "code",
   "execution_count": 42,
   "id": "e98490ea",
   "metadata": {},
   "outputs": [],
   "source": [
    "import pandas as pd"
   ]
  },
  {
   "cell_type": "code",
   "execution_count": 43,
   "id": "069940bd",
   "metadata": {},
   "outputs": [],
   "source": [
    "df_origin_train = pd.read_csv('train.csv')\n",
    "df_origin_test = pd.read_csv('test.csv')\n",
    "\n",
    "df_aug_train = pd.read_csv('train_augmented.csv')\n",
    "df_aug_test = pd.read_csv('test_augmented.csv')"
   ]
  },
  {
   "cell_type": "code",
   "execution_count": 44,
   "id": "774d35df",
   "metadata": {},
   "outputs": [],
   "source": [
    "df_new_train = pd.concat([df_origin_train[['text', 'sentiment']], df_aug_train], ignore_index=True)"
   ]
  },
  {
   "cell_type": "code",
   "execution_count": 45,
   "id": "a6a01dfa",
   "metadata": {},
   "outputs": [],
   "source": [
    "df_new_train = df_new_train.drop_duplicates(subset=['text'])"
   ]
  },
  {
   "cell_type": "code",
   "execution_count": 46,
   "id": "2a3d005a",
   "metadata": {},
   "outputs": [
    {
     "name": "stdout",
     "output_type": "stream",
     "text": [
      "<class 'pandas.core.frame.DataFrame'>\n",
      "Int64Index: 39681 entries, 0 to 52277\n",
      "Data columns (total 2 columns):\n",
      " #   Column     Non-Null Count  Dtype \n",
      "---  ------     --------------  ----- \n",
      " 0   text       39680 non-null  object\n",
      " 1   sentiment  39681 non-null  object\n",
      "dtypes: object(2)\n",
      "memory usage: 930.0+ KB\n"
     ]
    }
   ],
   "source": [
    "df_new_train.info()"
   ]
  },
  {
   "cell_type": "code",
   "execution_count": 47,
   "id": "43fe97fb",
   "metadata": {},
   "outputs": [
    {
     "data": {
      "text/html": [
       "<div>\n",
       "<style scoped>\n",
       "    .dataframe tbody tr th:only-of-type {\n",
       "        vertical-align: middle;\n",
       "    }\n",
       "\n",
       "    .dataframe tbody tr th {\n",
       "        vertical-align: top;\n",
       "    }\n",
       "\n",
       "    .dataframe thead th {\n",
       "        text-align: right;\n",
       "    }\n",
       "</style>\n",
       "<table border=\"1\" class=\"dataframe\">\n",
       "  <thead>\n",
       "    <tr style=\"text-align: right;\">\n",
       "      <th></th>\n",
       "      <th>text</th>\n",
       "      <th>sentiment</th>\n",
       "    </tr>\n",
       "  </thead>\n",
       "  <tbody>\n",
       "    <tr>\n",
       "      <th>314</th>\n",
       "      <td>NaN</td>\n",
       "      <td>neutral</td>\n",
       "    </tr>\n",
       "  </tbody>\n",
       "</table>\n",
       "</div>"
      ],
      "text/plain": [
       "    text sentiment\n",
       "314  NaN   neutral"
      ]
     },
     "execution_count": 47,
     "metadata": {},
     "output_type": "execute_result"
    }
   ],
   "source": [
    "df_new_train[df_new_train.isnull().any(axis=1)]"
   ]
  },
  {
   "cell_type": "code",
   "execution_count": 48,
   "id": "7afbec9a",
   "metadata": {},
   "outputs": [],
   "source": [
    "df_new_train = df_new_train.dropna()"
   ]
  },
  {
   "cell_type": "code",
   "execution_count": 49,
   "id": "aee6509a",
   "metadata": {},
   "outputs": [
    {
     "name": "stdout",
     "output_type": "stream",
     "text": [
      "<class 'pandas.core.frame.DataFrame'>\n",
      "Int64Index: 39680 entries, 0 to 52277\n",
      "Data columns (total 2 columns):\n",
      " #   Column     Non-Null Count  Dtype \n",
      "---  ------     --------------  ----- \n",
      " 0   text       39680 non-null  object\n",
      " 1   sentiment  39680 non-null  object\n",
      "dtypes: object(2)\n",
      "memory usage: 930.0+ KB\n"
     ]
    }
   ],
   "source": [
    "df_new_train.info()"
   ]
  },
  {
   "cell_type": "code",
   "execution_count": 50,
   "id": "728532fd",
   "metadata": {},
   "outputs": [],
   "source": [
    "df_new_test = pd.concat([df_origin_test[['text', 'sentiment']], df_aug_test], ignore_index=True)"
   ]
  },
  {
   "cell_type": "code",
   "execution_count": 51,
   "id": "c2d4dd6b",
   "metadata": {},
   "outputs": [],
   "source": [
    "df_new_test = df_new_test.drop_duplicates(subset=['text'])"
   ]
  },
  {
   "cell_type": "code",
   "execution_count": 52,
   "id": "9065eed5",
   "metadata": {},
   "outputs": [
    {
     "name": "stdout",
     "output_type": "stream",
     "text": [
      "<class 'pandas.core.frame.DataFrame'>\n",
      "Int64Index: 7022 entries, 0 to 11883\n",
      "Data columns (total 2 columns):\n",
      " #   Column     Non-Null Count  Dtype \n",
      "---  ------     --------------  ----- \n",
      " 0   text       7021 non-null   object\n",
      " 1   sentiment  7020 non-null   object\n",
      "dtypes: object(2)\n",
      "memory usage: 164.6+ KB\n"
     ]
    }
   ],
   "source": [
    "df_new_test.info()"
   ]
  },
  {
   "cell_type": "code",
   "execution_count": 53,
   "id": "f6ce5b44",
   "metadata": {},
   "outputs": [
    {
     "data": {
      "text/html": [
       "<div>\n",
       "<style scoped>\n",
       "    .dataframe tbody tr th:only-of-type {\n",
       "        vertical-align: middle;\n",
       "    }\n",
       "\n",
       "    .dataframe tbody tr th {\n",
       "        vertical-align: top;\n",
       "    }\n",
       "\n",
       "    .dataframe thead th {\n",
       "        text-align: right;\n",
       "    }\n",
       "</style>\n",
       "<table border=\"1\" class=\"dataframe\">\n",
       "  <thead>\n",
       "    <tr style=\"text-align: right;\">\n",
       "      <th></th>\n",
       "      <th>text</th>\n",
       "      <th>sentiment</th>\n",
       "    </tr>\n",
       "  </thead>\n",
       "  <tbody>\n",
       "    <tr>\n",
       "      <th>7068</th>\n",
       "      <td>NaN</td>\n",
       "      <td>NaN</td>\n",
       "    </tr>\n",
       "    <tr>\n",
       "      <th>11883</th>\n",
       "      <td>South</td>\n",
       "      <td>NaN</td>\n",
       "    </tr>\n",
       "  </tbody>\n",
       "</table>\n",
       "</div>"
      ],
      "text/plain": [
       "        text sentiment\n",
       "7068     NaN       NaN\n",
       "11883  South       NaN"
      ]
     },
     "execution_count": 53,
     "metadata": {},
     "output_type": "execute_result"
    }
   ],
   "source": [
    "df_new_test[df_new_test.isnull().any(axis=1)]"
   ]
  },
  {
   "cell_type": "code",
   "execution_count": 54,
   "id": "8a1d83b3",
   "metadata": {},
   "outputs": [],
   "source": [
    "df_new_test = df_new_test.dropna()"
   ]
  },
  {
   "cell_type": "code",
   "execution_count": 55,
   "id": "e4454e27",
   "metadata": {},
   "outputs": [
    {
     "name": "stdout",
     "output_type": "stream",
     "text": [
      "<class 'pandas.core.frame.DataFrame'>\n",
      "Int64Index: 7020 entries, 0 to 11882\n",
      "Data columns (total 2 columns):\n",
      " #   Column     Non-Null Count  Dtype \n",
      "---  ------     --------------  ----- \n",
      " 0   text       7020 non-null   object\n",
      " 1   sentiment  7020 non-null   object\n",
      "dtypes: object(2)\n",
      "memory usage: 164.5+ KB\n"
     ]
    }
   ],
   "source": [
    "df_new_test.info()"
   ]
  },
  {
   "cell_type": "code",
   "execution_count": 57,
   "id": "442fcd20",
   "metadata": {},
   "outputs": [],
   "source": [
    "df_new_train.to_csv('train_aug.csv', index=False)\n",
    "df_new_test.to_csv('test_aug.csv', index=False)"
   ]
  }
 ],
 "metadata": {
  "kernelspec": {
   "display_name": "Python 3 (ipykernel)",
   "language": "python",
   "name": "python3"
  },
  "language_info": {
   "codemirror_mode": {
    "name": "ipython",
    "version": 3
   },
   "file_extension": ".py",
   "mimetype": "text/x-python",
   "name": "python",
   "nbconvert_exporter": "python",
   "pygments_lexer": "ipython3",
   "version": "3.11.2"
  }
 },
 "nbformat": 4,
 "nbformat_minor": 5
}
